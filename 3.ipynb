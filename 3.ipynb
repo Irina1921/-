#include <iostream>
#include <vector>
#include <cstdlib>
#include <ctime>

long long mod_pow(long long base, long long exponent, long long modulus) {
    long long result = 1;
    base = base % modulus;
    while (exponent > 0) {
        if (exponent % 2 == 1) {
            result = (result * base) % modulus;
        }
        exponent >>= 1;
        base = (base * base) % modulus;
    }
    return result;
}

long long euclidean_algorithm(long long a, long long b) {
    while (b != 0) {
        long long t = b;
        b = a % b;
        a = t;
    }
    return a;
}

long long extended_euclidean_algorithm(long long e, long long phi) {
    long long d = 0, x1 = 0, x2 = 1, y1 = 1;
    long long temp_phi = phi;

    while (e > 0) {
        long long temp1 = temp_phi / e;
        long long temp2 = temp_phi - temp1 * e;
        temp_phi = e;
        e = temp2;

        long long x = x2 - temp1 * x1;
        long long y = d - temp1 * y1;

        x2 = x1;
        x1 = x;
        d = y1;
        y1 = y;
    }

    if (temp_phi == 1) {
        return (d + phi) % phi;
    }
    return 0;
}

std::pair<std::pair<long long, long long>, std::pair<long long, long long>> generate_rsa_keys(long long p, long long q) {
    long long n = p * q;
    long long phi = (p - 1) * (q - 1);
    long long e = rand() % (phi - 1) + 1;
    long long gcd_result = euclidean_algorithm(e, phi);

    while (gcd_result != 1) {
        e = rand() % (phi - 1) + 1;
        gcd_result = euclidean_algorithm(e, phi);
    }

    long long d = extended_euclidean_algorithm(e, phi);
    return {{e, n}, {d, n}};
}

std::vector<long long> encrypt_message(const std::pair<long long, long long>& public_key, const std::string& message) {
    long long key = public_key.first;
    long long n = public_key.second;
    std::vector<long long> encrypted_message;
    for (char ch : message) {
        long long m = static_cast<long long>(ch);
        long long c = mod_pow(m, key, n);
        encrypted_message.push_back(c);
    }
    return encrypted_message;
}

std::string decrypt_message(const std::pair<long long, long long>& private_key, const std::vector<long long>& encrypted_message) {
    long long key = private_key.first;
    long long n = private_key.second;
    std::string decrypted_message;
    for (long long c : encrypted_message) {
        char m = static_cast<char>(mod_pow(c, key, n));
        decrypted_message.push_back(m);
    }
    return decrypted_message;
}

int main() {
    srand(static_cast<unsigned int>(time(nullptr)));

    long long p, q;
    std::cout << "Введите простое число : ";
    std::cin >> p;
    std::cout << "Введите простое число (!= p): ";
    std::cin >> q;

    auto keys = generate_rsa_keys(p, q);
    auto public_key = keys.first;
    auto private_key = keys.second;

    std::cout << "Открытый ключ (e, n): (" << public_key.first << ", " << public_key.second << ")\n";
    std::cout << "Закрытый ключ (d, n): (" << private_key.first << ", " << private_key.second << ")\n";

    std::cin.ignore();
    std::string message;
    std::cout << "Введите сообщение для шифрования: ";
    std::getline(std::cin, message);

    auto encrypted_msg = encrypt_message(public_key, message);
    std::cout << "Зашифрованное сообщение: ";
    for (auto c : encrypted_msg) {
        std::cout << c << " ";
    }
    std::cout << "\n";

    std::string decrypted_message = decrypt_message(private_key, encrypted_msg);
    std::cout << "Расшифрованное сообщение: " << decrypted_message << "\n";

    return 0;
}