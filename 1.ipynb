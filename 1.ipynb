#include <iostream>
#include <string>
#include <vector>

std::string GetUserInput(const std::string& prompt) {
    std::cout << prompt;
    std::string input;
    std::getline(std::cin, input);
    for (char& c : input) c = toupper(c);
    return input;
}

std::vector<std::string> GetKeys() {
    std::string keys_str = GetUserInput("Введите ключ: ");
    std::vector<std::string> keys;
    std::string key;
    for (char c : keys_str) {
        if (c == ' ') {
            if (!key.empty()) {
                keys.push_back(key);
                key.clear();
            }
        } else {
            key += c;
        }
    }
    if (!key.empty()) keys.push_back(key);
    return keys;
}

std::string Crypt(const std::string& message, const std::vector<std::string>& keys, int sign) {
    std::string final = message;
    for (const auto& key : keys) {
        std::string long_key = key;
        while (long_key.length() < message.length()) {
            long_key += key;
        }
        for (size_t index = 0; index < message.length(); ++index) {
            if (isalpha(message[index])) {
                int temp = (message[index] - 'A') + sign * (long_key[index] - 'A');
                if (temp < 0) temp += 26;
                final[index] = (temp % 26) + 'A';
            }
        }
    }
    return final;
}

std::string Encrypt(const std::string& message, const std::vector<std::string>& keys) {
    return Crypt(message, keys, 1);
}

std::string Decrypt(const std::string& message, const std::vector<std::string>& keys) {
    return Crypt(message, keys, -1);
}

int main() {
    std::string start_message = GetUserInput("Введите сообщение: ");
    std::vector<std::string> list_keys = GetKeys();

    std::string encrypt_message = Encrypt(start_message, list_keys);
    std::string decrypt_message = Decrypt(encrypt_message, list_keys);

    std::cout << "Зашифрованное сообщение: " << encrypt_message << std::endl;
    std::cout << "Расшифрованное сообщение: " << decrypt_message << std::endl;

    return 0;
}