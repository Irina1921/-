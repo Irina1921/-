#include <iostream>
#include <string>
#include <vector>
#include <cctype>

std::string getUserInput(const std::string& prompt) {
    std::string input;
    std::cout << prompt;
    std::getline(std::cin, input);

    for (char& c : input) {
        c = std::toupper(c);
    }
    return input;
}

std::vector<std::string> getKeys() {
    std::string keysString = getUserInput("Введите ключ: ");
    std::vector<std::string> keys;
    std::string key;
    for (char c : keysString) {
        if (c == ' ') {
            keys.push_back(key);
            key = "";
        } else {
            key += c;
        }
    }
    if (!key.empty()) {
        keys.push_back(key);
    }
    return keys;
}

std::string crypt(const std::string& message, const std::vector<std::string>& keys, int sign) {
    std::string final;
    for (const std::string& key : keys) {
        std::string extendedKey;
        for (size_t i = 0; i < message.length(); ++i) {
            extendedKey += key[i % key.length()];
        }
        for (size_t i = 0; i < message.length(); ++i) {
            if (std::isalpha(message[i])) {
                char temp = static_cast<char>((message[i] - 'A' + sign * (extendedKey[i] - 'A')) % 26 + 'A');
                final += temp;
            } else {
                final += message[i];
            }
        }
    }
    return final;
}

std::string encrypt(const std::string& message, const std::vector<std::string>& keys) {
    return crypt(message, keys, 1);
}

std::string decrypt(const std::string& message, const std::vector<std::string>& keys) {
    return crypt(message, keys, -1);
}

int main() {
    std::string startMessage = getUserInput("Введите сообщение: ");
    std::vector<std::string> listKeys = getKeys();

    std::string encryptedMessage = encrypt(startMessage, listKeys);
    std::string decryptedMessage = decrypt(encryptedMessage, listKeys);

    std::cout << "Зашифрованное сообщение: " << encryptedMessage << std::endl;
    std::cout << "Расшифрованное сообщение: " << decryptedMessage << std::endl;

    return 0;
}